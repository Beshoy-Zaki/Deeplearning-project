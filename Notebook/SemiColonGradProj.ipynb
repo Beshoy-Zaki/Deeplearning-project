{
  "nbformat": 4,
  "nbformat_minor": 0,
  "metadata": {
    "colab": {
      "provenance": []
    },
    "kernelspec": {
      "name": "python3",
      "display_name": "Python 3"
    },
    "language_info": {
      "name": "python"
    }
  },
  "cells": [
    {
      "cell_type": "markdown",
      "source": [
        "# **From Biological to Artificial Neurons**\n",
        " ## Introduction\n",
        "   Artificial Neural Networks (ANNs)  have been around for quite a while: they were first\n",
        "  introduced back in 1943 by the neurophysiologist Warren McCulloch and the\n",
        "  mathematician Walter Pitts. In their landmark paper “A Logical Calculus of\n",
        "  Ideas Immanent in Nervous Activity”\n",
        " ## Progress of Neural networks\n",
        "  * Early successes of ANNs made us believe that we will be dealing with truly intelligent machines\n",
        "  * In the 1960s this promise went unfulfilled for quite a while\n",
        "  * In the early 1980s new architectures were invented and better training techniques were developed but the process was slow\n",
        "  * By the 1990s other models were invented and seemed to make better results than ANNs\n",
        "  * Now there is another wave of interest in ANNs due to the avilability of data, the increase in computing power, the improved training alogrithms, etc...\n",
        " ## Biological Neurons\n",
        " Biological neurons are specialized cells found in animal brains, consisting of a cell body with a nucleus, dendrites, and a long axon that splits into telodendria with synaptic terminals at their tips. These neurons communicate via electrical impulses called action potentials, which travel along the axon and trigger the release of neurotransmitters at synapses.\n",
        "\n",
        " Biological neurons are brain cells that work together in huge networks. Even though each neuron is simple, their connections allow the brain to perform complex tasks, like how ants work together to build an anthill. Scientists are still studying how these networks are organized, but they’ve already mapped some parts of the brain, showing how powerful and intricate these systems are."
      ],
      "metadata": {
        "id": "cxxyVEnKOtn6"
      }
    },
    {
      "cell_type": "markdown",
      "source": [
        "## Logical Computations with Neurons\n",
        "### Artificial neuron\n",
        "it has one or more binary\n",
        " inputs and one binary output. The artificial neuron activates its\n",
        " output when more than a certain number of its inputs are active.\n",
        "### Simple Logic\n",
        "Neurons can be used to perform simple logic operations like AND, OR, and NOT.\n",
        "* Identity Function: If a neuron gets activated, it activates the next neuron.\n",
        "* AND Gate: The output neuron activates only if both input neurons are active.\n",
        "* OR Gate: The output neuron activates if at least one input neuron is active.\n",
        "* NOT Gate: An inhibitory connection can turn a neuron off when another is on.\n",
        "## The Perceptron\n",
        "it was invented by Frank Rosenblatt in 1957, is a simple neural network model that uses weights and a bias to process inputs and produce an output based on a step function.\n",
        "* **Linear Combination**: $$z = \\mathbf{w}^\\top \\mathbf{x} + b$$\n",
        "* **Step Function**: $$h(x) = \\text{step}(z)$$\n",
        "The perceptron uses the Heaviside step function or the sign function for binary classification. A single TLU computes a linear function of its inputs and outputs a class based on a threshold. A perceptron consists of one or more TLUs in a fully connected layer, with inputs forming the input layer and TLUs forming the output layer.\n",
        "* **Heaviside Step Function**:\n",
        "   $$\\text{heaviside}(z) = \\begin{cases}\n",
        "   0 & \\text{if } z < 0 \\\\\n",
        "   1 & \\text{if } z \\geq 0\n",
        "   \\end{cases}$$\n",
        "* **Sign Function**:\n",
        "   $$\\text{sgn}(z) = \\begin{cases}\n",
        "   -1 & \\text{if } z < 0 \\\\\n",
        "   0 & \\text{if } z = 0 \\\\\n",
        "   +1 & \\text{if } z > 0\n",
        "   \\end{cases}$$\n",
        "  \n",
        " A perceptron is composed of one or more TLUs organized in a single layer,\n",
        " where every TLU is connected to every input. Such a layer is called a fully\n",
        " connected layer, or a dense layer. The inputs represent the input layer. And\n",
        " since the layer of TLUs produces the final outputs, it is called the output\n",
        " layer.\n",
        "\n",
        " This equation can be used to calculate the outputs of a layer of artificial neurons for several instances at once:\n",
        " $$h_{W,b}(X) = \\phi(XW + b)$$\n"
      ],
      "metadata": {
        "id": "uttPMZFMdTek"
      }
    },
    {
      "cell_type": "markdown",
      "source": [
        "### **Perceptron Training**  \n",
        "\n",
        "The perceptron is trained using a rule inspired by Hebb’s rule, which strengthens connections based on activation. The perceptron learning rule updates weights based on prediction errors:  \n",
        "\n",
        "#### **Perceptron Learning Rule**  \n",
        "\n",
        "$$\n",
        "w_{i,j}^{(next)} = w_{i,j} + \\eta (y_j - \\hat{y}_j) x_i\n",
        "$$\n",
        "\n",
        "### **Perceptron in Scikit-Learn**  \n",
        "```python\n",
        "import numpy as np\n",
        "from sklearn.datasets import load_iris\n",
        "from sklearn.linear_model import Perceptron\n",
        "\n",
        "iris = load_iris(as_frame=True)\n",
        "X = iris.data[[\"petal length (cm)\", \"petal width (cm)\"]].values\n",
        "y = (iris.target == 0)\n",
        "\n",
        "per_clf = Perceptron(random_state=42)\n",
        "per_clf.fit(X, y)\n",
        "\n",
        "X_new = [[2, 0.5], [3, 1]]\n",
        "y_pred = per_clf.predict(X_new)\n",
        "```\n",
        "\n",
        "### **Limitations**  \n",
        "- Works only for linearly separable problems.  \n",
        "- Fails on nonlinear problems like XOR.  \n",
        "\n",
        "But luckily it was later proved that stacking multiple perceptrons can fix the XOR problem, This was later called Multi Layer Perceptron (MLP)"
      ],
      "metadata": {
        "id": "376CPbHZQHaV"
      }
    },
    {
      "cell_type": "markdown",
      "source": [
        "##  The Multilayer Perceptron and Backpropagation\n",
        " An MLP is composed of one input layer, one or more layers of TLUs called\n",
        " hidden layers, and one final layer of TLUs called the output layer.\n",
        "\n",
        " When an ANN contains a deep stack of hidden layers,  it is called a deep\n",
        " neural network (DNN).\n",
        "\n",
        " For many years researchers were trying to find a way to train MLPs and there was an idea of using gradient descent but it was later found to be ineffective since it wasn't clear how much time it will take with so many parameters in the MLPs.\n",
        " ### Reverse-mode automatic differentiation\n",
        " In just two passes\n",
        " through the network (one forward, one backward), it is able to compute the\n",
        " gradients of the neural network’s error with regard to every single model\n",
        " parameter, which can then be used to perform a gradient descent step and by repeating this the error will eventually drop to the minimum and this is now called backpropagation (or backprop for short).\n",
        "\n",
        " ### **Backprobagation**\n",
        " #### 1. Mini Batch Processing  \n",
        "- Processes one mini-batch at a time.  \n",
        "- Iterates through the full training set multiple times.  \n",
        "\n",
        "#### 2. Forward Pass  \n",
        "- The mini batch enters through the input layer.  \n",
        "- Each layer computes outputs and passes them forward.  \n",
        "- The final output layer produces predictions.  \n",
        "- Intermediate values are stored for the backward pass.  \n",
        "\n",
        "#### 3. Loss Calculation  \n",
        "- A loss function measures the difference between predicted and actual outputs.  \n",
        "\n",
        "#### 4. Backward Pass (Error Propagation)  \n",
        "- Calculates how much each weight and bias contributed to the error using the chain rule.  \n",
        "- Propagates the error gradients backward through the network, layer by layer.  \n",
        "\n",
        "#### 5. Gradient Descent Update  \n",
        "- Updates weights and biases using computed gradients.  \n",
        "- Reduces error and improves performance over multiple iterations.\n",
        "\n",
        "### **Activation Functions**\n",
        "The step function was replaced by the sigmoid function allowing the gradient decsent to make progress in every step, there are also some other commonly used functions such as: The hyperbolic tangent function and  The rectified linear unit function.\n"
      ],
      "metadata": {
        "id": "pmVaMFXLSegV"
      }
    },
    {
      "cell_type": "markdown",
      "source": [
        "## **Regression MLPs**\n",
        "MLPs can be used for regression tasks. If you want to predict a single\n",
        " value then you just\n",
        " need a single output neuron, you need one output\n",
        " neuron per output dimension\n",
        "## **Classification MLPs**\n",
        "- Binary Classification: One output neuron with sigmoid activation to predict the probability of the positive class.  \n",
        "- Multilabel Classification: Multiple output neurons, each using sigmoid activation. Probabilities do not sum to 1.  \n",
        "- Multiclass Classification: One output neuron per class, using softmax activation to ensure probabilities sum to 1.  \n",
        "- Loss Function:Cross-entropy loss is typically used for classification tasks.  "
      ],
      "metadata": {
        "id": "rqvCBga7xP24"
      }
    },
    {
      "cell_type": "code",
      "execution_count": 35,
      "metadata": {
        "id": "KDFF-j2vOsZq"
      },
      "outputs": [],
      "source": [
        "# Building an Image Classifier Using the Sequential API\n",
        "import tensorflow as tf\n",
        "import pandas as pd"
      ]
    },
    {
      "cell_type": "code",
      "source": [
        "#Loading the Dataset\n",
        "from sklearn.datasets import fetch_openml\n",
        "mnist = tf.keras.datasets.mnist.load_data()\n",
        "(X_train_full, y_train_full), (X_test, y_test) = mnist\n",
        "X_train, y_train = X_train_full[:-5000], y_train_full[:-5000]\n",
        "X_valid, y_valid = X_train_full[-5000:], y_train_full[-5000:]"
      ],
      "metadata": {
        "id": "WnSYkQ3Szutf"
      },
      "execution_count": 36,
      "outputs": []
    },
    {
      "cell_type": "code",
      "source": [
        "#Checking the shape of the image\n",
        "X_train.shape"
      ],
      "metadata": {
        "colab": {
          "base_uri": "https://localhost:8080/"
        },
        "id": "ZdxyLJts0Z9d",
        "outputId": "fcf3c54d-ef5d-4bd7-859b-570ac4f71323"
      },
      "execution_count": 37,
      "outputs": [
        {
          "output_type": "execute_result",
          "data": {
            "text/plain": [
              "(55000, 28, 28)"
            ]
          },
          "metadata": {},
          "execution_count": 37
        }
      ]
    },
    {
      "cell_type": "code",
      "source": [
        "#Checking the datatype of training set\n",
        "X_train.dtype"
      ],
      "metadata": {
        "colab": {
          "base_uri": "https://localhost:8080/"
        },
        "id": "XubWjL6Q0u9o",
        "outputId": "ff158489-5f54-4a60-8db6-cdcfe353c739"
      },
      "execution_count": 38,
      "outputs": [
        {
          "output_type": "execute_result",
          "data": {
            "text/plain": [
              "dtype('uint8')"
            ]
          },
          "metadata": {},
          "execution_count": 38
        }
      ]
    },
    {
      "cell_type": "code",
      "source": [
        "#Normalizing the pixel intensities and ranging them from 0 to 1\n",
        "X_train, X_valid, X_test = X_train / 255., X_valid / 255., X_test / 255."
      ],
      "metadata": {
        "id": "rVde8o6p0vtH"
      },
      "execution_count": 39,
      "outputs": []
    },
    {
      "cell_type": "code",
      "source": [
        "#Sets random seed for the hidden and output layers\n",
        "#Making sequential API model using keras\n",
        "#Building the first layer (input)\n",
        "#We use flatten to convert the images into 1D arrays\n",
        "#Then we add a dense hidden layer with 300 neurons and relu activation function\n",
        "#We add a second dense hidden layer with 100 neurons and using relu activation function aswell\n",
        "#Then we add a dense output layer with 10 neurons\n",
        "model = tf.keras.Sequential([\n",
        "tf.keras.layers.Flatten(input_shape=[28, 28]),\n",
        "tf.keras.layers.Dense(300, activation=\"relu\"),\n",
        "tf.keras.layers.Dense(100, activation=\"relu\"),\n",
        "tf.keras.layers.Dense(10, activation=\"softmax\")])"
      ],
      "metadata": {
        "colab": {
          "base_uri": "https://localhost:8080/"
        },
        "id": "dnV5VNSt2sDo",
        "outputId": "299f02e3-bdb2-4c0a-cbaf-0e335b71b876"
      },
      "execution_count": 40,
      "outputs": [
        {
          "output_type": "stream",
          "name": "stderr",
          "text": [
            "/usr/local/lib/python3.11/dist-packages/keras/src/layers/reshaping/flatten.py:37: UserWarning: Do not pass an `input_shape`/`input_dim` argument to a layer. When using Sequential models, prefer using an `Input(shape)` object as the first layer in the model instead.\n",
            "  super().__init__(**kwargs)\n"
          ]
        }
      ]
    },
    {
      "cell_type": "code",
      "source": [
        "model.summary()"
      ],
      "metadata": {
        "colab": {
          "base_uri": "https://localhost:8080/",
          "height": 257
        },
        "id": "QS0iDP-G3G7L",
        "outputId": "2ba6e3d7-cd98-419a-e182-0e7e54243a89"
      },
      "execution_count": 41,
      "outputs": [
        {
          "output_type": "display_data",
          "data": {
            "text/plain": [
              "\u001b[1mModel: \"sequential_4\"\u001b[0m\n"
            ],
            "text/html": [
              "<pre style=\"white-space:pre;overflow-x:auto;line-height:normal;font-family:Menlo,'DejaVu Sans Mono',consolas,'Courier New',monospace\"><span style=\"font-weight: bold\">Model: \"sequential_4\"</span>\n",
              "</pre>\n"
            ]
          },
          "metadata": {}
        },
        {
          "output_type": "display_data",
          "data": {
            "text/plain": [
              "┏━━━━━━━━━━━━━━━━━━━━━━━━━━━━━━━━━━━━━━┳━━━━━━━━━━━━━━━━━━━━━━━━━━━━━┳━━━━━━━━━━━━━━━━━┓\n",
              "┃\u001b[1m \u001b[0m\u001b[1mLayer (type)                        \u001b[0m\u001b[1m \u001b[0m┃\u001b[1m \u001b[0m\u001b[1mOutput Shape               \u001b[0m\u001b[1m \u001b[0m┃\u001b[1m \u001b[0m\u001b[1m        Param #\u001b[0m\u001b[1m \u001b[0m┃\n",
              "┡━━━━━━━━━━━━━━━━━━━━━━━━━━━━━━━━━━━━━━╇━━━━━━━━━━━━━━━━━━━━━━━━━━━━━╇━━━━━━━━━━━━━━━━━┩\n",
              "│ flatten_4 (\u001b[38;5;33mFlatten\u001b[0m)                  │ (\u001b[38;5;45mNone\u001b[0m, \u001b[38;5;34m784\u001b[0m)                 │               \u001b[38;5;34m0\u001b[0m │\n",
              "├──────────────────────────────────────┼─────────────────────────────┼─────────────────┤\n",
              "│ dense_12 (\u001b[38;5;33mDense\u001b[0m)                     │ (\u001b[38;5;45mNone\u001b[0m, \u001b[38;5;34m300\u001b[0m)                 │         \u001b[38;5;34m235,500\u001b[0m │\n",
              "├──────────────────────────────────────┼─────────────────────────────┼─────────────────┤\n",
              "│ dense_13 (\u001b[38;5;33mDense\u001b[0m)                     │ (\u001b[38;5;45mNone\u001b[0m, \u001b[38;5;34m100\u001b[0m)                 │          \u001b[38;5;34m30,100\u001b[0m │\n",
              "├──────────────────────────────────────┼─────────────────────────────┼─────────────────┤\n",
              "│ dense_14 (\u001b[38;5;33mDense\u001b[0m)                     │ (\u001b[38;5;45mNone\u001b[0m, \u001b[38;5;34m10\u001b[0m)                  │           \u001b[38;5;34m1,010\u001b[0m │\n",
              "└──────────────────────────────────────┴─────────────────────────────┴─────────────────┘\n"
            ],
            "text/html": [
              "<pre style=\"white-space:pre;overflow-x:auto;line-height:normal;font-family:Menlo,'DejaVu Sans Mono',consolas,'Courier New',monospace\">┏━━━━━━━━━━━━━━━━━━━━━━━━━━━━━━━━━━━━━━┳━━━━━━━━━━━━━━━━━━━━━━━━━━━━━┳━━━━━━━━━━━━━━━━━┓\n",
              "┃<span style=\"font-weight: bold\"> Layer (type)                         </span>┃<span style=\"font-weight: bold\"> Output Shape                </span>┃<span style=\"font-weight: bold\">         Param # </span>┃\n",
              "┡━━━━━━━━━━━━━━━━━━━━━━━━━━━━━━━━━━━━━━╇━━━━━━━━━━━━━━━━━━━━━━━━━━━━━╇━━━━━━━━━━━━━━━━━┩\n",
              "│ flatten_4 (<span style=\"color: #0087ff; text-decoration-color: #0087ff\">Flatten</span>)                  │ (<span style=\"color: #00d7ff; text-decoration-color: #00d7ff\">None</span>, <span style=\"color: #00af00; text-decoration-color: #00af00\">784</span>)                 │               <span style=\"color: #00af00; text-decoration-color: #00af00\">0</span> │\n",
              "├──────────────────────────────────────┼─────────────────────────────┼─────────────────┤\n",
              "│ dense_12 (<span style=\"color: #0087ff; text-decoration-color: #0087ff\">Dense</span>)                     │ (<span style=\"color: #00d7ff; text-decoration-color: #00d7ff\">None</span>, <span style=\"color: #00af00; text-decoration-color: #00af00\">300</span>)                 │         <span style=\"color: #00af00; text-decoration-color: #00af00\">235,500</span> │\n",
              "├──────────────────────────────────────┼─────────────────────────────┼─────────────────┤\n",
              "│ dense_13 (<span style=\"color: #0087ff; text-decoration-color: #0087ff\">Dense</span>)                     │ (<span style=\"color: #00d7ff; text-decoration-color: #00d7ff\">None</span>, <span style=\"color: #00af00; text-decoration-color: #00af00\">100</span>)                 │          <span style=\"color: #00af00; text-decoration-color: #00af00\">30,100</span> │\n",
              "├──────────────────────────────────────┼─────────────────────────────┼─────────────────┤\n",
              "│ dense_14 (<span style=\"color: #0087ff; text-decoration-color: #0087ff\">Dense</span>)                     │ (<span style=\"color: #00d7ff; text-decoration-color: #00d7ff\">None</span>, <span style=\"color: #00af00; text-decoration-color: #00af00\">10</span>)                  │           <span style=\"color: #00af00; text-decoration-color: #00af00\">1,010</span> │\n",
              "└──────────────────────────────────────┴─────────────────────────────┴─────────────────┘\n",
              "</pre>\n"
            ]
          },
          "metadata": {}
        },
        {
          "output_type": "display_data",
          "data": {
            "text/plain": [
              "\u001b[1m Total params: \u001b[0m\u001b[38;5;34m266,610\u001b[0m (1.02 MB)\n"
            ],
            "text/html": [
              "<pre style=\"white-space:pre;overflow-x:auto;line-height:normal;font-family:Menlo,'DejaVu Sans Mono',consolas,'Courier New',monospace\"><span style=\"font-weight: bold\"> Total params: </span><span style=\"color: #00af00; text-decoration-color: #00af00\">266,610</span> (1.02 MB)\n",
              "</pre>\n"
            ]
          },
          "metadata": {}
        },
        {
          "output_type": "display_data",
          "data": {
            "text/plain": [
              "\u001b[1m Trainable params: \u001b[0m\u001b[38;5;34m266,610\u001b[0m (1.02 MB)\n"
            ],
            "text/html": [
              "<pre style=\"white-space:pre;overflow-x:auto;line-height:normal;font-family:Menlo,'DejaVu Sans Mono',consolas,'Courier New',monospace\"><span style=\"font-weight: bold\"> Trainable params: </span><span style=\"color: #00af00; text-decoration-color: #00af00\">266,610</span> (1.02 MB)\n",
              "</pre>\n"
            ]
          },
          "metadata": {}
        },
        {
          "output_type": "display_data",
          "data": {
            "text/plain": [
              "\u001b[1m Non-trainable params: \u001b[0m\u001b[38;5;34m0\u001b[0m (0.00 B)\n"
            ],
            "text/html": [
              "<pre style=\"white-space:pre;overflow-x:auto;line-height:normal;font-family:Menlo,'DejaVu Sans Mono',consolas,'Courier New',monospace\"><span style=\"font-weight: bold\"> Non-trainable params: </span><span style=\"color: #00af00; text-decoration-color: #00af00\">0</span> (0.00 B)\n",
              "</pre>\n"
            ]
          },
          "metadata": {}
        }
      ]
    },
    {
      "cell_type": "code",
      "source": [
        "#Checking the layers\n",
        "model.layers"
      ],
      "metadata": {
        "colab": {
          "base_uri": "https://localhost:8080/"
        },
        "id": "HdRTvqOo5Vmp",
        "outputId": "b7710d24-2f48-439f-8644-9375e5a56c1b"
      },
      "execution_count": 42,
      "outputs": [
        {
          "output_type": "execute_result",
          "data": {
            "text/plain": [
              "[<Flatten name=flatten_4, built=True>,\n",
              " <Dense name=dense_12, built=True>,\n",
              " <Dense name=dense_13, built=True>,\n",
              " <Dense name=dense_14, built=True>]"
            ]
          },
          "metadata": {},
          "execution_count": 42
        }
      ]
    },
    {
      "cell_type": "code",
      "source": [
        "#Selecting layer 1 and checking its name\n",
        "hidden1 = model.layers[1]\n",
        "hidden1.name"
      ],
      "metadata": {
        "colab": {
          "base_uri": "https://localhost:8080/",
          "height": 35
        },
        "id": "xFrkQjeF5aP_",
        "outputId": "c47c5e36-8f39-48f6-bdcd-98a2eed71e19"
      },
      "execution_count": 43,
      "outputs": [
        {
          "output_type": "execute_result",
          "data": {
            "text/plain": [
              "'dense_12'"
            ],
            "application/vnd.google.colaboratory.intrinsic+json": {
              "type": "string"
            }
          },
          "metadata": {},
          "execution_count": 43
        }
      ]
    },
    {
      "cell_type": "code",
      "source": [
        "#Accessing by name\n",
        "model.get_layer('dense_12') is hidden1"
      ],
      "metadata": {
        "colab": {
          "base_uri": "https://localhost:8080/"
        },
        "id": "pPkibZTf5kmB",
        "outputId": "ebcae058-6553-4d14-cb7c-d8650a08b3fe"
      },
      "execution_count": 45,
      "outputs": [
        {
          "output_type": "execute_result",
          "data": {
            "text/plain": [
              "True"
            ]
          },
          "metadata": {},
          "execution_count": 45
        }
      ]
    },
    {
      "cell_type": "code",
      "source": [
        "#Connection weights\n",
        "weights, biases = hidden1.get_weights()\n",
        "weights"
      ],
      "metadata": {
        "colab": {
          "base_uri": "https://localhost:8080/"
        },
        "id": "9am_9Fz26Kp8",
        "outputId": "cbe5448b-4a59-4287-d15d-23076a9d0ed8"
      },
      "execution_count": 46,
      "outputs": [
        {
          "output_type": "execute_result",
          "data": {
            "text/plain": [
              "array([[ 0.05691999,  0.07044467,  0.04415394, ...,  0.00702804,\n",
              "        -0.00109316, -0.06517363],\n",
              "       [-0.06009858, -0.01513594, -0.07276332, ..., -0.07017361,\n",
              "         0.00722443, -0.03149768],\n",
              "       [ 0.0187912 ,  0.05552287,  0.01110324, ..., -0.00996268,\n",
              "         0.03355981,  0.01619292],\n",
              "       ...,\n",
              "       [ 0.06246504,  0.05063669,  0.03461643, ..., -0.00068098,\n",
              "        -0.03516382,  0.02423894],\n",
              "       [-0.06258617, -0.07400942,  0.06924836, ..., -0.02390747,\n",
              "         0.06970184,  0.01863158],\n",
              "       [ 0.03476296, -0.06386213,  0.05704671, ...,  0.06830224,\n",
              "         0.05693305,  0.00692993]], dtype=float32)"
            ]
          },
          "metadata": {},
          "execution_count": 46
        }
      ]
    },
    {
      "cell_type": "code",
      "source": [
        "weights.shape"
      ],
      "metadata": {
        "colab": {
          "base_uri": "https://localhost:8080/"
        },
        "id": "rErRcf3l6RSA",
        "outputId": "99e35dd0-112a-4b3e-afbb-ac1bc2192676"
      },
      "execution_count": 47,
      "outputs": [
        {
          "output_type": "execute_result",
          "data": {
            "text/plain": [
              "(784, 300)"
            ]
          },
          "metadata": {},
          "execution_count": 47
        }
      ]
    },
    {
      "cell_type": "code",
      "source": [
        "#Bias terms\n",
        "biases"
      ],
      "metadata": {
        "colab": {
          "base_uri": "https://localhost:8080/"
        },
        "id": "rKjLSb0S6T4w",
        "outputId": "e5dc80eb-f16b-4e15-a163-3b758b5a2002"
      },
      "execution_count": 48,
      "outputs": [
        {
          "output_type": "execute_result",
          "data": {
            "text/plain": [
              "array([0., 0., 0., 0., 0., 0., 0., 0., 0., 0., 0., 0., 0., 0., 0., 0., 0.,\n",
              "       0., 0., 0., 0., 0., 0., 0., 0., 0., 0., 0., 0., 0., 0., 0., 0., 0.,\n",
              "       0., 0., 0., 0., 0., 0., 0., 0., 0., 0., 0., 0., 0., 0., 0., 0., 0.,\n",
              "       0., 0., 0., 0., 0., 0., 0., 0., 0., 0., 0., 0., 0., 0., 0., 0., 0.,\n",
              "       0., 0., 0., 0., 0., 0., 0., 0., 0., 0., 0., 0., 0., 0., 0., 0., 0.,\n",
              "       0., 0., 0., 0., 0., 0., 0., 0., 0., 0., 0., 0., 0., 0., 0., 0., 0.,\n",
              "       0., 0., 0., 0., 0., 0., 0., 0., 0., 0., 0., 0., 0., 0., 0., 0., 0.,\n",
              "       0., 0., 0., 0., 0., 0., 0., 0., 0., 0., 0., 0., 0., 0., 0., 0., 0.,\n",
              "       0., 0., 0., 0., 0., 0., 0., 0., 0., 0., 0., 0., 0., 0., 0., 0., 0.,\n",
              "       0., 0., 0., 0., 0., 0., 0., 0., 0., 0., 0., 0., 0., 0., 0., 0., 0.,\n",
              "       0., 0., 0., 0., 0., 0., 0., 0., 0., 0., 0., 0., 0., 0., 0., 0., 0.,\n",
              "       0., 0., 0., 0., 0., 0., 0., 0., 0., 0., 0., 0., 0., 0., 0., 0., 0.,\n",
              "       0., 0., 0., 0., 0., 0., 0., 0., 0., 0., 0., 0., 0., 0., 0., 0., 0.,\n",
              "       0., 0., 0., 0., 0., 0., 0., 0., 0., 0., 0., 0., 0., 0., 0., 0., 0.,\n",
              "       0., 0., 0., 0., 0., 0., 0., 0., 0., 0., 0., 0., 0., 0., 0., 0., 0.,\n",
              "       0., 0., 0., 0., 0., 0., 0., 0., 0., 0., 0., 0., 0., 0., 0., 0., 0.,\n",
              "       0., 0., 0., 0., 0., 0., 0., 0., 0., 0., 0., 0., 0., 0., 0., 0., 0.,\n",
              "       0., 0., 0., 0., 0., 0., 0., 0., 0., 0., 0.], dtype=float32)"
            ]
          },
          "metadata": {},
          "execution_count": 48
        }
      ]
    },
    {
      "cell_type": "code",
      "source": [
        "biases.shape"
      ],
      "metadata": {
        "colab": {
          "base_uri": "https://localhost:8080/"
        },
        "id": "dSjtIJJS6W5q",
        "outputId": "23086a33-7243-4853-e487-71c1c7311a90"
      },
      "execution_count": 49,
      "outputs": [
        {
          "output_type": "execute_result",
          "data": {
            "text/plain": [
              "(300,)"
            ]
          },
          "metadata": {},
          "execution_count": 49
        }
      ]
    },
    {
      "cell_type": "code",
      "source": [
        "#Compiling the model using stochastic gradient descent\n",
        "model.compile(loss=\"sparse_categorical_crossentropy\",\n",
        "optimizer=\"sgd\",\n",
        "metrics=[\"accuracy\"])"
      ],
      "metadata": {
        "id": "d7ejQPoH9PQ6"
      },
      "execution_count": 54,
      "outputs": []
    },
    {
      "cell_type": "code",
      "source": [
        "#Now we train the model\n",
        "history = model.fit(X_train, y_train, epochs=30,validation_data=(X_valid, y_valid))"
      ],
      "metadata": {
        "colab": {
          "base_uri": "https://localhost:8080/"
        },
        "id": "cKrdJVCG9UlM",
        "outputId": "e3ac0142-c9bc-4a53-cd77-b1e91d474288"
      },
      "execution_count": 55,
      "outputs": [
        {
          "output_type": "stream",
          "name": "stdout",
          "text": [
            "Epoch 1/30\n",
            "\u001b[1m1719/1719\u001b[0m \u001b[32m━━━━━━━━━━━━━━━━━━━━\u001b[0m\u001b[37m\u001b[0m \u001b[1m9s\u001b[0m 5ms/step - accuracy: 0.7146 - loss: 1.0650 - val_accuracy: 0.9306 - val_loss: 0.2613\n",
            "Epoch 2/30\n",
            "\u001b[1m1719/1719\u001b[0m \u001b[32m━━━━━━━━━━━━━━━━━━━━\u001b[0m\u001b[37m\u001b[0m \u001b[1m6s\u001b[0m 4ms/step - accuracy: 0.9126 - loss: 0.3103 - val_accuracy: 0.9450 - val_loss: 0.2011\n",
            "Epoch 3/30\n",
            "\u001b[1m1719/1719\u001b[0m \u001b[32m━━━━━━━━━━━━━━━━━━━━\u001b[0m\u001b[37m\u001b[0m \u001b[1m8s\u001b[0m 4ms/step - accuracy: 0.9305 - loss: 0.2469 - val_accuracy: 0.9552 - val_loss: 0.1702\n",
            "Epoch 4/30\n",
            "\u001b[1m1719/1719\u001b[0m \u001b[32m━━━━━━━━━━━━━━━━━━━━\u001b[0m\u001b[37m\u001b[0m \u001b[1m10s\u001b[0m 4ms/step - accuracy: 0.9408 - loss: 0.2083 - val_accuracy: 0.9616 - val_loss: 0.1490\n",
            "Epoch 5/30\n",
            "\u001b[1m1719/1719\u001b[0m \u001b[32m━━━━━━━━━━━━━━━━━━━━\u001b[0m\u001b[37m\u001b[0m \u001b[1m6s\u001b[0m 4ms/step - accuracy: 0.9487 - loss: 0.1802 - val_accuracy: 0.9654 - val_loss: 0.1335\n",
            "Epoch 6/30\n",
            "\u001b[1m1719/1719\u001b[0m \u001b[32m━━━━━━━━━━━━━━━━━━━━\u001b[0m\u001b[37m\u001b[0m \u001b[1m8s\u001b[0m 4ms/step - accuracy: 0.9555 - loss: 0.1585 - val_accuracy: 0.9694 - val_loss: 0.1220\n",
            "Epoch 7/30\n",
            "\u001b[1m1719/1719\u001b[0m \u001b[32m━━━━━━━━━━━━━━━━━━━━\u001b[0m\u001b[37m\u001b[0m \u001b[1m10s\u001b[0m 4ms/step - accuracy: 0.9602 - loss: 0.1413 - val_accuracy: 0.9706 - val_loss: 0.1129\n",
            "Epoch 8/30\n",
            "\u001b[1m1719/1719\u001b[0m \u001b[32m━━━━━━━━━━━━━━━━━━━━\u001b[0m\u001b[37m\u001b[0m \u001b[1m7s\u001b[0m 4ms/step - accuracy: 0.9648 - loss: 0.1270 - val_accuracy: 0.9726 - val_loss: 0.1054\n",
            "Epoch 9/30\n",
            "\u001b[1m1719/1719\u001b[0m \u001b[32m━━━━━━━━━━━━━━━━━━━━\u001b[0m\u001b[37m\u001b[0m \u001b[1m8s\u001b[0m 4ms/step - accuracy: 0.9686 - loss: 0.1149 - val_accuracy: 0.9738 - val_loss: 0.0992\n",
            "Epoch 10/30\n",
            "\u001b[1m1719/1719\u001b[0m \u001b[32m━━━━━━━━━━━━━━━━━━━━\u001b[0m\u001b[37m\u001b[0m \u001b[1m7s\u001b[0m 4ms/step - accuracy: 0.9718 - loss: 0.1046 - val_accuracy: 0.9746 - val_loss: 0.0941\n",
            "Epoch 11/30\n",
            "\u001b[1m1719/1719\u001b[0m \u001b[32m━━━━━━━━━━━━━━━━━━━━\u001b[0m\u001b[37m\u001b[0m \u001b[1m10s\u001b[0m 4ms/step - accuracy: 0.9743 - loss: 0.0956 - val_accuracy: 0.9754 - val_loss: 0.0898\n",
            "Epoch 12/30\n",
            "\u001b[1m1719/1719\u001b[0m \u001b[32m━━━━━━━━━━━━━━━━━━━━\u001b[0m\u001b[37m\u001b[0m \u001b[1m8s\u001b[0m 4ms/step - accuracy: 0.9766 - loss: 0.0878 - val_accuracy: 0.9764 - val_loss: 0.0861\n",
            "Epoch 13/30\n",
            "\u001b[1m1719/1719\u001b[0m \u001b[32m━━━━━━━━━━━━━━━━━━━━\u001b[0m\u001b[37m\u001b[0m \u001b[1m6s\u001b[0m 4ms/step - accuracy: 0.9784 - loss: 0.0808 - val_accuracy: 0.9774 - val_loss: 0.0831\n",
            "Epoch 14/30\n",
            "\u001b[1m1719/1719\u001b[0m \u001b[32m━━━━━━━━━━━━━━━━━━━━\u001b[0m\u001b[37m\u001b[0m \u001b[1m8s\u001b[0m 5ms/step - accuracy: 0.9799 - loss: 0.0747 - val_accuracy: 0.9780 - val_loss: 0.0805\n",
            "Epoch 15/30\n",
            "\u001b[1m1719/1719\u001b[0m \u001b[32m━━━━━━━━━━━━━━━━━━━━\u001b[0m\u001b[37m\u001b[0m \u001b[1m10s\u001b[0m 5ms/step - accuracy: 0.9815 - loss: 0.0692 - val_accuracy: 0.9786 - val_loss: 0.0782\n",
            "Epoch 16/30\n",
            "\u001b[1m1719/1719\u001b[0m \u001b[32m━━━━━━━━━━━━━━━━━━━━\u001b[0m\u001b[37m\u001b[0m \u001b[1m9s\u001b[0m 4ms/step - accuracy: 0.9832 - loss: 0.0642 - val_accuracy: 0.9786 - val_loss: 0.0763\n",
            "Epoch 17/30\n",
            "\u001b[1m1719/1719\u001b[0m \u001b[32m━━━━━━━━━━━━━━━━━━━━\u001b[0m\u001b[37m\u001b[0m \u001b[1m10s\u001b[0m 4ms/step - accuracy: 0.9841 - loss: 0.0598 - val_accuracy: 0.9798 - val_loss: 0.0745\n",
            "Epoch 18/30\n",
            "\u001b[1m1719/1719\u001b[0m \u001b[32m━━━━━━━━━━━━━━━━━━━━\u001b[0m\u001b[37m\u001b[0m \u001b[1m8s\u001b[0m 4ms/step - accuracy: 0.9851 - loss: 0.0558 - val_accuracy: 0.9804 - val_loss: 0.0730\n",
            "Epoch 19/30\n",
            "\u001b[1m1719/1719\u001b[0m \u001b[32m━━━━━━━━━━━━━━━━━━━━\u001b[0m\u001b[37m\u001b[0m \u001b[1m7s\u001b[0m 4ms/step - accuracy: 0.9863 - loss: 0.0521 - val_accuracy: 0.9808 - val_loss: 0.0717\n",
            "Epoch 20/30\n",
            "\u001b[1m1719/1719\u001b[0m \u001b[32m━━━━━━━━━━━━━━━━━━━━\u001b[0m\u001b[37m\u001b[0m \u001b[1m10s\u001b[0m 4ms/step - accuracy: 0.9873 - loss: 0.0487 - val_accuracy: 0.9810 - val_loss: 0.0706\n",
            "Epoch 21/30\n",
            "\u001b[1m1719/1719\u001b[0m \u001b[32m━━━━━━━━━━━━━━━━━━━━\u001b[0m\u001b[37m\u001b[0m \u001b[1m8s\u001b[0m 4ms/step - accuracy: 0.9884 - loss: 0.0456 - val_accuracy: 0.9808 - val_loss: 0.0696\n",
            "Epoch 22/30\n",
            "\u001b[1m1719/1719\u001b[0m \u001b[32m━━━━━━━━━━━━━━━━━━━━\u001b[0m\u001b[37m\u001b[0m \u001b[1m11s\u001b[0m 5ms/step - accuracy: 0.9893 - loss: 0.0428 - val_accuracy: 0.9816 - val_loss: 0.0688\n",
            "Epoch 23/30\n",
            "\u001b[1m1719/1719\u001b[0m \u001b[32m━━━━━━━━━━━━━━━━━━━━\u001b[0m\u001b[37m\u001b[0m \u001b[1m9s\u001b[0m 4ms/step - accuracy: 0.9902 - loss: 0.0401 - val_accuracy: 0.9816 - val_loss: 0.0680\n",
            "Epoch 24/30\n",
            "\u001b[1m1719/1719\u001b[0m \u001b[32m━━━━━━━━━━━━━━━━━━━━\u001b[0m\u001b[37m\u001b[0m \u001b[1m8s\u001b[0m 5ms/step - accuracy: 0.9911 - loss: 0.0377 - val_accuracy: 0.9820 - val_loss: 0.0673\n",
            "Epoch 25/30\n",
            "\u001b[1m1719/1719\u001b[0m \u001b[32m━━━━━━━━━━━━━━━━━━━━\u001b[0m\u001b[37m\u001b[0m \u001b[1m8s\u001b[0m 5ms/step - accuracy: 0.9919 - loss: 0.0354 - val_accuracy: 0.9822 - val_loss: 0.0667\n",
            "Epoch 26/30\n",
            "\u001b[1m1719/1719\u001b[0m \u001b[32m━━━━━━━━━━━━━━━━━━━━\u001b[0m\u001b[37m\u001b[0m \u001b[1m7s\u001b[0m 4ms/step - accuracy: 0.9925 - loss: 0.0333 - val_accuracy: 0.9824 - val_loss: 0.0663\n",
            "Epoch 27/30\n",
            "\u001b[1m1719/1719\u001b[0m \u001b[32m━━━━━━━━━━━━━━━━━━━━\u001b[0m\u001b[37m\u001b[0m \u001b[1m8s\u001b[0m 4ms/step - accuracy: 0.9932 - loss: 0.0313 - val_accuracy: 0.9826 - val_loss: 0.0659\n",
            "Epoch 28/30\n",
            "\u001b[1m1719/1719\u001b[0m \u001b[32m━━━━━━━━━━━━━━━━━━━━\u001b[0m\u001b[37m\u001b[0m \u001b[1m7s\u001b[0m 4ms/step - accuracy: 0.9936 - loss: 0.0295 - val_accuracy: 0.9828 - val_loss: 0.0655\n",
            "Epoch 29/30\n",
            "\u001b[1m1719/1719\u001b[0m \u001b[32m━━━━━━━━━━━━━━━━━━━━\u001b[0m\u001b[37m\u001b[0m \u001b[1m8s\u001b[0m 4ms/step - accuracy: 0.9941 - loss: 0.0278 - val_accuracy: 0.9830 - val_loss: 0.0652\n",
            "Epoch 30/30\n",
            "\u001b[1m1719/1719\u001b[0m \u001b[32m━━━━━━━━━━━━━━━━━━━━\u001b[0m\u001b[37m\u001b[0m \u001b[1m7s\u001b[0m 4ms/step - accuracy: 0.9947 - loss: 0.0262 - val_accuracy: 0.9830 - val_loss: 0.0649\n"
          ]
        }
      ]
    },
    {
      "cell_type": "code",
      "source": [
        "#Using pandas and plot to get learning curves\n",
        "import matplotlib.pyplot as plt\n",
        "import pandas as pd\n",
        "pd.DataFrame(history.history).plot(figsize=(8, 5), xlim=[0, 29], ylim=[0, 1], grid=True, style=[\"r--\", \"r--.\", \"b-\", \"b-*\"])\n",
        "plt.show()"
      ],
      "metadata": {
        "colab": {
          "base_uri": "https://localhost:8080/",
          "height": 451
        },
        "id": "9NlQtdVu_sbK",
        "outputId": "a53351cd-7b6c-4be0-d8e7-e69aa575b4a4"
      },
      "execution_count": 59,
      "outputs": [
        {
          "output_type": "display_data",
          "data": {
            "text/plain": [
              "<Figure size 800x500 with 1 Axes>"
            ],
            "image/png": "[encoded data removed]"
          },
          "metadata": {}
        }
      ]
    },
    {
      "cell_type": "code",
      "source": [
        "#Now we evaluate the test set\n",
        "model.evaluate(X_test, y_test)"
      ],
      "metadata": {
        "colab": {
          "base_uri": "https://localhost:8080/"
        },
        "id": "74Gk14fIATNG",
        "outputId": "f999e2f2-4b4a-4720-cd9a-d13f6bc73a8f"
      },
      "execution_count": 60,
      "outputs": [
        {
          "output_type": "stream",
          "name": "stdout",
          "text": [
            "\u001b[1m313/313\u001b[0m \u001b[32m━━━━━━━━━━━━━━━━━━━━\u001b[0m\u001b[37m\u001b[0m \u001b[1m1s\u001b[0m 2ms/step - accuracy: 0.9737 - loss: 0.0803\n"
          ]
        },
        {
          "output_type": "execute_result",
          "data": {
            "text/plain": [
              "[0.06926797330379486, 0.9775000214576721]"
            ]
          },
          "metadata": {},
          "execution_count": 60
        }
      ]
    }
  ]
}